{
 "cells": [
  {
   "cell_type": "code",
   "execution_count": null,
   "id": "d4930ab7",
   "metadata": {},
   "outputs": [],
   "source": [
    "%pip install git+https://github.com/istat-methodology/semantic-search.git"
   ]
  },
  {
   "cell_type": "markdown",
   "id": "666c5da5",
   "metadata": {},
   "source": [
    "# Build ATECO 2022 vector database"
   ]
  },
  {
   "cell_type": "code",
   "execution_count": 1,
   "id": "ce0b8237",
   "metadata": {},
   "outputs": [
    {
     "name": "stderr",
     "output_type": "stream",
     "text": [
      "c:\\Users\\UTENTE\\AppData\\Local\\Programs\\Python\\Python312\\Lib\\site-packages\\tqdm\\auto.py:21: TqdmWarning: IProgress not found. Please update jupyter and ipywidgets. See https://ipywidgets.readthedocs.io/en/stable/user_install.html\n",
      "  from .autonotebook import tqdm as notebook_tqdm\n"
     ]
    }
   ],
   "source": [
    "import re\n",
    "import pandas as pd\n",
    "from semantic_search.local import LocalKnowledgeBase\n",
    "from semantic_search.data import build_corpus"
   ]
  },
  {
   "cell_type": "markdown",
   "id": "84fbe67f",
   "metadata": {},
   "source": [
    "## Utility functions"
   ]
  },
  {
   "cell_type": "code",
   "execution_count": 2,
   "id": "21676d07",
   "metadata": {},
   "outputs": [],
   "source": [
    "def preprocess_ateco_df(df: pd.DataFrame) -> pd.DataFrame:\n",
    "    # Preprocessing function for ATECO DataFrame\n",
    "\tdf = df[['main', 'section', 'title', 'description', 'exclusion_title', 'exclusion_list', 'exclusion_description']].copy()\n",
    "\tdf = df.rename(columns={'section': 'code'})\n",
    "\n",
    "    # Normalizzazione\n",
    "\tdf['code'] = df['code'].astype(str)\n",
    "\tdf['title'] = df['title'].astype(str).str.lower()\n",
    "\n",
    "\tfor col in ['description', 'exclusion_title', 'exclusion_list', 'exclusion_description']:\n",
    "\t\tdf[col] = df[col].fillna('')\n",
    "\t\tdf[col] = df[col].apply(lambda x: re.sub(r'\\s+', ' ', x.strip()))\n",
    "\n",
    "    # Colonna opzionale\n",
    "\tif 'exclusion_title' not in df.columns:\n",
    "\t\tdf['exclusion_title'] = ''\n",
    "\n",
    "\treturn df\n"
   ]
  },
  {
   "cell_type": "markdown",
   "id": "f6d02c77",
   "metadata": {},
   "source": [
    "## Configs"
   ]
  },
  {
   "cell_type": "code",
   "execution_count": 3,
   "id": "f59e0196",
   "metadata": {},
   "outputs": [],
   "source": [
    "ATECO_PATH : str = \"classification/ateco_2022/ateco_2022_raw.csv\"\n",
    "\n",
    "LEVEL_CONFIG = [\n",
    "    {\"level\": \"sezione\",   \"level_id\": 1, \"pattern\": None},\n",
    "    {\"level\": \"divisione\", \"level_id\": 2, \"pattern\": r'\\d{2}'},\n",
    "    {\"level\": \"gruppo\",    \"level_id\": 3, \"pattern\": r'\\d{2}\\.\\d'},\n",
    "    {\"level\": \"classe\",    \"level_id\": 4, \"pattern\": r'\\d{2}\\.\\d{2}'}\n",
    "]\n"
   ]
  },
  {
   "cell_type": "markdown",
   "id": "0977acac",
   "metadata": {},
   "source": [
    "## Data Load & Preprocessing\n",
    "We import the ATECO 2022 classification and perform pre-processing tasks needed to build the vector database"
   ]
  },
  {
   "cell_type": "markdown",
   "id": "b9a134c2",
   "metadata": {},
   "source": [
    "---"
   ]
  },
  {
   "cell_type": "code",
   "execution_count": 4,
   "id": "830c244b",
   "metadata": {},
   "outputs": [],
   "source": [
    "# Read ATECO 2022\n",
    "raw_ateco_df = pd.read_csv(ATECO_PATH)"
   ]
  },
  {
   "cell_type": "markdown",
   "id": "32d92105",
   "metadata": {},
   "source": [
    "Build a dataset at each level"
   ]
  },
  {
   "cell_type": "code",
   "execution_count": 5,
   "id": "8739be8f",
   "metadata": {},
   "outputs": [],
   "source": [
    "ateco_levels = []\n",
    "\n",
    "for config in LEVEL_CONFIG:\n",
    "    # Filtro per il livello\n",
    "    if config[\"pattern\"] is None:\n",
    "        df_filtered = raw_ateco_df[raw_ateco_df['section'].isin(raw_ateco_df['main'].unique())].copy()\n",
    "    else:\n",
    "        df_filtered = raw_ateco_df[raw_ateco_df['section'].str.fullmatch(config[\"pattern\"])].copy()\n",
    "\n",
    "    # Pre-processing\n",
    "    df_prepared = preprocess_ateco_df(df_filtered)\n",
    "    df_prepared[\"level\"] = config[\"level\"]\n",
    "    ateco_levels.append(df_prepared)\n",
    "\n",
    "    # Salvataggio CSV\n",
    "    df_prepared.to_csv(\n",
    "        f\"classification/ateco_2022/ateco_2022_level_{config['level_id']}.csv\",\n",
    "        index=False\n",
    "    )\n",
    "\n",
    "# Salvataggio dataset completo\n",
    "ateco_2022 = pd.concat(ateco_levels, ignore_index=True)\n",
    "ateco_2022 = ateco_2022[[\"main\", \"code\", \"level\", \"title\", \"description\", \"exclusion_title\", \"exclusion_list\", \"exclusion_description\"]]\n",
    "ateco_2022.to_csv(\"classification/ateco_2022/ateco_2022.csv\", index=False)\n"
   ]
  },
  {
   "cell_type": "markdown",
   "id": "b158cba6",
   "metadata": {},
   "source": [
    "---"
   ]
  },
  {
   "cell_type": "markdown",
   "id": "ae368e51",
   "metadata": {},
   "source": [
    "## Semantic Search\n",
    "Now, we can build a semantic search database containing ATECO codes. To do this, we will use the `LocalKnowledgeBase` class from the `semantic_search` library."
   ]
  },
  {
   "cell_type": "markdown",
   "id": "3df15237",
   "metadata": {},
   "source": [
    "### Define a descriptor TEMPLATE\n",
    "This template is needed to create the texts (**descriptors**) that will be loaded in the vector database"
   ]
  },
  {
   "cell_type": "code",
   "execution_count": 7,
   "id": "01d2453e",
   "metadata": {},
   "outputs": [],
   "source": [
    "descriptor_template = \"\"\"# {title}\n",
    "\n",
    "{description}\n",
    "\"\"\"\n",
    "\n",
    "exclusion_template = \"\"\"\n",
    "Questa sezione ATECO non comprende le seguenti attività:\n",
    "\n",
    "{exclusion_list}, {exclusion_description}\n",
    "\"\"\"\n"
   ]
  },
  {
   "cell_type": "markdown",
   "id": "cf4c4682",
   "metadata": {},
   "source": [
    "### ATECO 2022 Knowledge Base (for a specific level)"
   ]
  },
  {
   "cell_type": "code",
   "execution_count": 8,
   "id": "b5c5f080",
   "metadata": {},
   "outputs": [],
   "source": [
    "ateco_2022 = pd.read_csv(\"classification/ateco_2022/ateco_2022.csv\")"
   ]
  },
  {
   "cell_type": "markdown",
   "id": "3ee138c7",
   "metadata": {},
   "source": [
    "Filter ATECO 2022 on a specified level"
   ]
  },
  {
   "cell_type": "code",
   "execution_count": 9,
   "id": "e889068f",
   "metadata": {},
   "outputs": [],
   "source": [
    "LEVEL: str = \"divisione\"  # sezione, divisione, gruppo, classe\n",
    "\n",
    "df = ateco_2022[ateco_2022['level'] == LEVEL]\n",
    "\n",
    "descriptors = [\n",
    "    descriptor_template.format(title=row[\"title\"], description=row[\"description\"]) for _, row in df.iterrows()\n",
    "]\n"
   ]
  },
  {
   "cell_type": "code",
   "execution_count": 10,
   "id": "d2c08039",
   "metadata": {},
   "outputs": [
    {
     "name": "stderr",
     "output_type": "stream",
     "text": [
      "Batches: 100%|██████████| 3/3 [00:03<00:00,  1.11s/it]\n"
     ]
    }
   ],
   "source": [
    "MODEL_ID   : str = \"paraphrase-multilingual-MiniLM-L12-v2\" #paraphrase-multilingual-MiniLM-L12-v2, BAAI/bge-m3 \n",
    "\n",
    "corpus = build_corpus(\n",
    "    texts=descriptors,\n",
    "    ids=df.index,\n",
    "    metadata=[{\"code\": c, \"title\": t, \"level\": l} for c, t, l in zip(df[\"code\"], df[\"title\"], df[\"level\"])]\n",
    ")\n",
    "\n",
    "base = LocalKnowledgeBase(\n",
    "    corpus=corpus,\n",
    "    model_id=MODEL_ID,\n",
    "    batch_size=32\n",
    ")"
   ]
  },
  {
   "cell_type": "markdown",
   "id": "36572d31",
   "metadata": {},
   "source": [
    "#### Let's query the knowledge base"
   ]
  },
  {
   "cell_type": "code",
   "execution_count": null,
   "id": "01654992",
   "metadata": {},
   "outputs": [],
   "source": [
    "QUERY = [\"Ho una pescheria\", \n",
    "         \"Ciao, io ho un'attività immobiliare che si occupa di affitti, quale codice ATECO devo usare?\"]\n",
    "\n",
    "results = base.search(QUERY, top_k=5)\n",
    "\n",
    "for res in results:\n",
    "    for res_i in res:\n",
    "        print(f\"{res_i.score:.2f} | {res_i.metadata['title']}\")\n",
    "    print(\"---\")\n"
   ]
  }
 ],
 "metadata": {
  "kernelspec": {
   "display_name": "Python 3",
   "language": "python",
   "name": "python3"
  },
  "language_info": {
   "codemirror_mode": {
    "name": "ipython",
    "version": 3
   },
   "file_extension": ".py",
   "mimetype": "text/x-python",
   "name": "python",
   "nbconvert_exporter": "python",
   "pygments_lexer": "ipython3",
   "version": "3.12.2"
  }
 },
 "nbformat": 4,
 "nbformat_minor": 5
}
