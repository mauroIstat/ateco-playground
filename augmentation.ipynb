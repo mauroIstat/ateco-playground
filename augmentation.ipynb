{
 "cells": [
  {
   "cell_type": "markdown",
   "id": "9dbf1c21",
   "metadata": {},
   "source": [
    "# Data Augmentation"
   ]
  },
  {
   "cell_type": "code",
   "execution_count": 28,
   "id": "a0423f7b",
   "metadata": {},
   "outputs": [
    {
     "data": {
      "text/plain": [
       "True"
      ]
     },
     "execution_count": 28,
     "metadata": {},
     "output_type": "execute_result"
    }
   ],
   "source": [
    "import pandas as pd\n",
    "import ast\n",
    "import os\n",
    "import json\n",
    "from dotenv import load_dotenv\n",
    "from openai import OpenAI\n",
    "from collections import defaultdict\n",
    "\n",
    "load_dotenv()"
   ]
  },
  {
   "cell_type": "markdown",
   "id": "00b30267",
   "metadata": {},
   "source": [
    "Load the ATECO 2025 leaf-level index."
   ]
  },
  {
   "cell_type": "code",
   "execution_count": null,
   "id": "0514303e",
   "metadata": {},
   "outputs": [],
   "source": [
    "df = pd.read_csv(\"data/ateco_2025_leaf.csv\")"
   ]
  },
  {
   "cell_type": "markdown",
   "id": "f7527f73",
   "metadata": {},
   "source": [
    "---"
   ]
  },
  {
   "cell_type": "markdown",
   "id": "591319f2",
   "metadata": {},
   "source": [
    "## GPT Augmentation"
   ]
  },
  {
   "cell_type": "code",
   "execution_count": 13,
   "id": "89e61293",
   "metadata": {},
   "outputs": [],
   "source": [
    "client = OpenAI()\n",
    "model_id: str = \"gpt-4.1-mini\"\n",
    "\n",
    "system = \"\"\"Sei un generatore di descrizioni di attività svolte da aziende e professionisti.\n",
    "\n",
    "Ecco cosa devi fare:\n",
    "* Ricevi in input una classificazione economica (titolo + dettagli).\n",
    "* Generi 10 esempi di brevissime descrizioni di attività svolte da aziende, coerenti con la classificazione.\n",
    "* Non generi testo che non sia una delle descrizioni.\n",
    "\n",
    "Informazioni importanti:\n",
    "* Focalizzati sull'attività indicata, non generare descrizioni con attività diverse (pui usare sinonimi).\n",
    "\n",
    "Alcuni esempi di descrizioni:\n",
    "i) Commercio dettaglio mobili usati oggetti antiquariato;\n",
    "ii) Restauro conservazione;\n",
    "iii) Tende sole esterno;\n",
    "iv) Consulenza sistemi Gestione;\n",
    "v) Pompaggio calcestruzzo;\n",
    "vi) Gommista.\n",
    "\n",
    "Formatta l'output come una lista Python.\"\"\""
   ]
  },
  {
   "cell_type": "markdown",
   "id": "59c31e15",
   "metadata": {},
   "source": [
    "Test the model."
   ]
  },
  {
   "cell_type": "code",
   "execution_count": 25,
   "id": "12155471",
   "metadata": {},
   "outputs": [],
   "source": [
    "response = client.responses.create(\n",
    "    model=model_id,\n",
    "    input=[\n",
    "        {\n",
    "            \"role\": \"developer\",\n",
    "            \"content\": system\n",
    "        },\n",
    "        {\n",
    "            \"role\": \"user\",\n",
    "            \"content\": df[\"prompts\"][1194]\n",
    "        }\n",
    "    ]\n",
    ")\n",
    "\n",
    "out_list = ast.literal_eval(response.output_text)"
   ]
  },
  {
   "cell_type": "markdown",
   "id": "8eebad57",
   "metadata": {},
   "source": [
    "Run the augmentation script."
   ]
  },
  {
   "cell_type": "code",
   "execution_count": null,
   "id": "ae281771",
   "metadata": {},
   "outputs": [],
   "source": [
    "out_dict = {}\n",
    "\n",
    "output_path = \"data/augmented.json\"\n",
    "\n",
    "if os.path.exists(output_path):\n",
    "    with open(output_path, \"r\") as f:\n",
    "        try:\n",
    "            out_dict = json.load(f)\n",
    "        except json.JSONDecodeError:\n",
    "            out_dict = {}\n",
    "\n",
    "for i, row in df.iterrows():\n",
    "    code = row[\"code\"]\n",
    "    prompt = row[\"prompts\"]\n",
    "\n",
    "    response = client.responses.create(\n",
    "        model=model_id,\n",
    "        input=[\n",
    "            {\n",
    "                \"role\": \"developer\",\n",
    "                \"content\": system\n",
    "            },\n",
    "            {\n",
    "                \"role\": \"user\",\n",
    "                \"content\": prompt\n",
    "            }\n",
    "        ]\n",
    "    )\n",
    "\n",
    "    try:\n",
    "        out_list = ast.literal_eval(response.output_text)\n",
    "\n",
    "    except:\n",
    "        out_list = str(response.output_text)\n",
    "    \n",
    "    out_dict[code] = out_list\n",
    "\n",
    "    with open(output_path, \"w\") as f:\n",
    "        json.dump(out_dict, f, indent=2)\n"
   ]
  }
 ],
 "metadata": {
  "kernelspec": {
   "display_name": "base",
   "language": "python",
   "name": "python3"
  },
  "language_info": {
   "codemirror_mode": {
    "name": "ipython",
    "version": 3
   },
   "file_extension": ".py",
   "mimetype": "text/x-python",
   "name": "python",
   "nbconvert_exporter": "python",
   "pygments_lexer": "ipython3",
   "version": "3.12.9"
  }
 },
 "nbformat": 4,
 "nbformat_minor": 5
}
