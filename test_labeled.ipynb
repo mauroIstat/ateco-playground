{
 "cells": [
  {
   "cell_type": "markdown",
   "id": "5aa8c399",
   "metadata": {},
   "source": [
    "# Test Semantic Search on Labeled Set"
   ]
  },
  {
   "cell_type": "code",
   "execution_count": null,
   "id": "fad50a09",
   "metadata": {},
   "outputs": [],
   "source": [
    "import pandas as pd\n",
    "from semantic_search.data import build_corpus\n",
    "from semantic_search.local import LocalKnowledgeBase"
   ]
  },
  {
   "cell_type": "markdown",
   "id": "29368c6a",
   "metadata": {},
   "source": [
    "## Configs"
   ]
  },
  {
   "cell_type": "code",
   "execution_count": 14,
   "id": "15b03a10",
   "metadata": {},
   "outputs": [],
   "source": [
    "LEVEL   : int = 2\n",
    "MODEL_ID: str = \"paraphrase-multilingual-MiniLM-L12-v2\""
   ]
  },
  {
   "cell_type": "markdown",
   "id": "4679002b",
   "metadata": {},
   "source": [
    "---"
   ]
  },
  {
   "cell_type": "markdown",
   "id": "e8d25b6c",
   "metadata": {},
   "source": [
    "## Data"
   ]
  },
  {
   "cell_type": "code",
   "execution_count": 15,
   "id": "30108cf1",
   "metadata": {},
   "outputs": [],
   "source": [
    "test_df = pd.read_csv(\"classification/ateco_2025/ateco_2025_index.csv\")\n",
    "ateco_df = pd.read_csv(f\"classification/ateco_2025/ateco_2025_level_{LEVEL}.csv\")\n",
    "\n",
    "descriptor_template = \"\"\"# {title}\n",
    "{description}\"\"\"\n",
    "\n",
    "descriptors = [descriptor_template.format(title=t, description=d) for t, d in zip(ateco_df[\"title\"], ateco_df[\"description\"])]\n",
    "\n",
    "y_texts, y_true = test_df[\"COMBO_PARLATA_IT\"].tolist(), test_df[\"ATECO2025\"].tolist()"
   ]
  },
  {
   "cell_type": "markdown",
   "id": "f1443357",
   "metadata": {},
   "source": [
    "Create the knowledge base."
   ]
  },
  {
   "cell_type": "code",
   "execution_count": 16,
   "id": "384fd2c2",
   "metadata": {},
   "outputs": [
    {
     "name": "stderr",
     "output_type": "stream",
     "text": [
      "Batches: 100%|███████████████████████████████████████████████████████████████████████████████████████████████████████████████████████████████████████████████████████████████████████████████████████████████████████████████████████████████████████████████████████████████████████████████████████████████████████████████████████████████████████████████████████████████████████████████████████████████████████████████████████████████████████████████████████████████████████████████████████████████████████████████████████████████████████████████████████████████████████████████████████████████████████████████████████████████████████████████████████████████████████████████████████████████████████████████████████████████████████████████████████████████████████████████████████████████████████████████████████████████████████████████████████████████████████████████████████████████████████████████████████████████████████████████████████████████████████████████████████████| 2/2 [00:00<00:00,  9.87it/s]\n"
     ]
    }
   ],
   "source": [
    "corpus = build_corpus(\n",
    "    texts=descriptors,\n",
    "    ids=ateco_df.index,\n",
    "    metadata=[{\"code\": c} for c in ateco_df[\"code\"]],\n",
    ")\n",
    "\n",
    "base = LocalKnowledgeBase(\n",
    "    corpus,\n",
    "    model_id=MODEL_ID,\n",
    "    batch_size=64\n",
    ")"
   ]
  },
  {
   "cell_type": "markdown",
   "id": "8e9c72c1",
   "metadata": {},
   "source": [
    "## Semantic Search"
   ]
  },
  {
   "cell_type": "code",
   "execution_count": 18,
   "id": "50f85e8c",
   "metadata": {},
   "outputs": [
    {
     "name": "stderr",
     "output_type": "stream",
     "text": [
      "Batches:   0%|                                                                                                                                                                                                                                                                                                                                                                                                                                                                                                                                                                                                                                                                                                                                                                                                                                                                                                                                                                                                 | 0/119 [00:00<?, ?it/s]"
     ]
    },
    {
     "name": "stderr",
     "output_type": "stream",
     "text": [
      "Batches: 100%|███████████████████████████████████████████████████████████████████████████████████████████████████████████████████████████████████████████████████████████████████████████████████████████████████████████████████████████████████████████████████████████████████████████████████████████████████████████████████████████████████████████████████████████████████████████████████████████████████████████████████████████████████████████████████████████████████████████████████████████████████████████████████████████████████████████████████████████████████████████████████████████████████████████████████████████████████████████████████████████████████████████████████████████████████████████████████████████████████████████████████████████████████████████████████████████████████████████████████████████████████████████████████████████████████████████████████████████████████████████████████████████████████████████████████████████████████████████████████████| 119/119 [00:01<00:00, 69.12it/s]\n"
     ]
    },
    {
     "name": "stdout",
     "output_type": "stream",
     "text": [
      "Accuracy (Top 5): 71.08% (5412/7614)\n"
     ]
    }
   ],
   "source": [
    "TOP_K = 5\n",
    "\n",
    "results = base.search(y_texts, top_k=TOP_K)\n",
    "\n",
    "correct = 0\n",
    "for result, yt in zip(results, y_true):\n",
    "    codes = [r.metadata[\"code\"] for r in result]\n",
    "    scores = [r.score for r in result]\n",
    "\n",
    "    if any(str(code) in yt for code in codes):\n",
    "        correct += 1\n",
    "\n",
    "print(f\"Accuracy (Top {TOP_K}): {correct / len(y_true):.2%} ({correct}/{len(y_true)})\")"
   ]
  }
 ],
 "metadata": {
  "kernelspec": {
   "display_name": "base",
   "language": "python",
   "name": "python3"
  },
  "language_info": {
   "codemirror_mode": {
    "name": "ipython",
    "version": 3
   },
   "file_extension": ".py",
   "mimetype": "text/x-python",
   "name": "python",
   "nbconvert_exporter": "python",
   "pygments_lexer": "ipython3",
   "version": "3.12.9"
  }
 },
 "nbformat": 4,
 "nbformat_minor": 5
}
