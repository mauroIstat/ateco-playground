{
 "cells": [
  {
   "cell_type": "markdown",
   "id": "5aa8c399",
   "metadata": {},
   "source": [
    "# Test Semantic Search on Labeled Set"
   ]
  },
  {
   "cell_type": "code",
   "execution_count": null,
   "id": "fad50a09",
   "metadata": {},
   "outputs": [],
   "source": [
    "import pandas as pd\n",
    "from semantic_search.data import build_corpus\n",
    "from semantic_search.local import LocalKnowledgeBase"
   ]
  },
  {
   "cell_type": "markdown",
   "id": "29368c6a",
   "metadata": {},
   "source": [
    "## Configs"
   ]
  },
  {
   "cell_type": "code",
   "execution_count": null,
   "id": "15b03a10",
   "metadata": {},
   "outputs": [],
   "source": [
    "LEVEL     : int  = 4\n",
    "MODEL_ID  : str  = \"BAAI/bge-m3\"\n",
    "DESCRIPTOR: bool = \"\"\"{title}\"\"\""
   ]
  },
  {
   "cell_type": "markdown",
   "id": "4679002b",
   "metadata": {},
   "source": [
    "---"
   ]
  },
  {
   "cell_type": "markdown",
   "id": "e8d25b6c",
   "metadata": {},
   "source": [
    "## Data"
   ]
  },
  {
   "cell_type": "code",
   "execution_count": null,
   "id": "30108cf1",
   "metadata": {},
   "outputs": [],
   "source": [
    "test_df = pd.read_csv(\"classification/ateco_2025/ateco_2025_index.csv\")\n",
    "ateco_df = pd.read_csv(f\"classification/ateco_2025/ateco_2025_level_{LEVEL}.csv\")\n",
    "\n",
    "descriptors = []\n",
    "for idx, row in ateco_df.iterrows():\n",
    "    title = row[\"title\"]\n",
    "    description = row[\"description\"]\n",
    "    if pd.isna(description):\n",
    "        description = \"\"\n",
    "    if pd.isna(title):\n",
    "        title = \"\"\n",
    "    descriptors.append(DESCRIPTOR.format(title=title, description=description)) \n",
    "\n",
    "y_texts, y_true = test_df[\"COMBO_PARLATA_IT\"].tolist(), test_df[\"ATECO2025\"].tolist()"
   ]
  },
  {
   "cell_type": "markdown",
   "id": "f1443357",
   "metadata": {},
   "source": [
    "Create the knowledge base."
   ]
  },
  {
   "cell_type": "code",
   "execution_count": null,
   "id": "384fd2c2",
   "metadata": {},
   "outputs": [],
   "source": [
    "corpus = build_corpus(\n",
    "    texts=descriptors,\n",
    "    ids=ateco_df.index,\n",
    "    metadata=[{\"code\": c} for c in ateco_df[\"code\"]],\n",
    ")\n",
    "\n",
    "base = LocalKnowledgeBase(\n",
    "    corpus,\n",
    "    model_id=MODEL_ID,\n",
    "    batch_size=64\n",
    ")"
   ]
  },
  {
   "cell_type": "markdown",
   "id": "8e9c72c1",
   "metadata": {},
   "source": [
    "## Semantic Search"
   ]
  },
  {
   "cell_type": "code",
   "execution_count": null,
   "id": "50f85e8c",
   "metadata": {},
   "outputs": [],
   "source": [
    "TOP_K = 5\n",
    "\n",
    "results = base.search(y_texts, top_k=TOP_K)\n",
    "\n",
    "correct = []\n",
    "for result, yt in zip(results, y_true):\n",
    "    codes = [r.metadata[\"code\"] for r in result]\n",
    "    scores = [r.score for r in result]\n",
    "\n",
    "    if any(str(code) in yt for code in codes):\n",
    "        correct.append(1)\n",
    "    else:\n",
    "        correct.append(0)\n",
    "\n",
    "print(f\"Accuracy (Top {TOP_K}): {sum(correct) / len(y_true):.2%} ({sum(correct)}/{len(y_true)})\")"
   ]
  },
  {
   "cell_type": "markdown",
   "id": "5085f5df",
   "metadata": {},
   "source": [
    "### Diagnostics"
   ]
  },
  {
   "cell_type": "code",
   "execution_count": null,
   "id": "a157da16",
   "metadata": {},
   "outputs": [],
   "source": [
    "test_df[\"CORRECT\"] = correct\n",
    "\n",
    "test_df[\"Level2\"] = test_df[\"ATECO2025\"].str[0:2]\n",
    "test_df[\"Level4\"] = test_df[\"ATECO2025\"].str[0:5]\n",
    "\n",
    "level_diagnostic = test_df.groupby(\"Level4\").agg(\n",
    "    {\"CORRECT\": \"mean\", \"ATECO2025\": \"count\"}\n",
    ").sort_values(\n",
    "    \"CORRECT\", ascending=True\n",
    ")\n",
    "\n",
    "level_diagnostic.head(10)"
   ]
  }
 ],
 "metadata": {
  "kernelspec": {
   "display_name": "base",
   "language": "python",
   "name": "python3"
  },
  "language_info": {
   "codemirror_mode": {
    "name": "ipython",
    "version": 3
   },
   "file_extension": ".py",
   "mimetype": "text/x-python",
   "name": "python",
   "nbconvert_exporter": "python",
   "pygments_lexer": "ipython3",
   "version": "3.12.9"
  }
 },
 "nbformat": 4,
 "nbformat_minor": 5
}
