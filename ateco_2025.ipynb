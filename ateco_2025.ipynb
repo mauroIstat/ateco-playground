{
  "cells": [
    {
      "cell_type": "markdown",
      "metadata": {
        "id": "8WTE0In7B7Cg"
      },
      "source": [
        "# ATECO 2025 Classification Preprocessing"
      ]
    },
    {
      "cell_type": "code",
      "execution_count": null,
      "metadata": {
        "id": "Pcll6xHh-sAT"
      },
      "outputs": [],
      "source": [
        "import csv\n",
        "import pandas as pd\n",
        "\n",
        "df = pd.read_excel(\"classification/ateco_2025/ateco_2025_raw.xlsx\")\n",
        "\n",
        "main = \"\"\n",
        "\n",
        "for i, row in df.iterrows():\n",
        "    if row[\"GERARCHIA\"] == 1:\n",
        "        main = row[\"CODICE\"]\n",
        "    df.at[i, \"main\"] = main"
      ]
    },
    {
      "cell_type": "markdown",
      "metadata": {
        "id": "ov2baRzw_w0o"
      },
      "source": [
        "## Level-specific CSV"
      ]
    },
    {
      "cell_type": "code",
      "execution_count": 49,
      "metadata": {
        "id": "a2BSP4IvCBnI"
      },
      "outputs": [],
      "source": [
        "level_ids = [1, 2, 3, 4]\n",
        "level_labels = [\"sezione\", \"divisione\", \"gruppo\", \"classe\"]\n",
        "\n",
        "\n",
        "for i, l in zip(level_ids, level_labels):\n",
        "    level_df = df[df[\"GERARCHIA\"] == i]\n",
        "    level_df = level_df[[\"main\", \"CODICE\", \"IT_TITOLO\", \"IT_NOTA\"]]\n",
        "\n",
        "    level_df[\"level\"] = [l] * level_df.shape[0]\n",
        "\n",
        "    level_df.rename(columns={\n",
        "        \"CODICE\": \"code\",\n",
        "        \"IT_TITOLO\": \"title\",\n",
        "        \"IT_NOTA\": \"description\"\n",
        "    }, inplace=True)\n",
        "\n",
        "    level_df = level_df[[\"main\", \"code\", \"level\", \"title\", \"description\"]]\n",
        "\n",
        "    level_df = level_df.groupby(\"code\").aggregate({\n",
        "        \"level\": lambda x: x.unique()[0],\n",
        "        \"title\": lambda x: x.unique()[0],\n",
        "        \"description\": lambda x: r\"\\n\".join(x.dropna().astype(str))\n",
        "    }).reset_index()\n",
        "\n",
        "    level_df.to_csv(f\"classification/ateco_2025/ateco_2025_level_{i}.csv\", quoting=csv.QUOTE_ALL, index=False)"
      ]
    },
    {
      "cell_type": "markdown",
      "metadata": {
        "id": "NBuF01GCowNu"
      },
      "source": [
        "---"
      ]
    },
    {
      "cell_type": "markdown",
      "metadata": {
        "id": "eUvJpyFyoupe"
      },
      "source": [
        "## Semantic Search"
      ]
    },
    {
      "cell_type": "code",
      "execution_count": null,
      "metadata": {
        "id": "Us-LupDQpAt2"
      },
      "outputs": [],
      "source": [
        "from semantic_search.data import build_corpus\n",
        "from semantic_search.local import LocalKnowledgeBase"
      ]
    },
    {
      "cell_type": "markdown",
      "metadata": {
        "id": "bfrgSOytqYyu"
      },
      "source": [
        "Build descriptors."
      ]
    },
    {
      "cell_type": "code",
      "execution_count": 7,
      "metadata": {
        "id": "dmk7IA4nqqom"
      },
      "outputs": [],
      "source": [
        "LEVEL: int = 4\n",
        "\n",
        "df = pd.read_csv(f\"classification/ateco_2025/ateco_2025_level_{LEVEL}.csv\")\n",
        "\n",
        "descriptor_template = \"\"\"# {title}\n",
        "{description}\"\"\"\n",
        "\n",
        "descriptors = [\n",
        "    descriptor_template.format(title=row[\"title\"], description=row[\"description\"]) for _, row in df.iterrows()\n",
        "]"
      ]
    },
    {
      "cell_type": "markdown",
      "metadata": {
        "id": "FXxmLrwNsQV_"
      },
      "source": [
        "Build knowledge base."
      ]
    },
    {
      "cell_type": "code",
      "execution_count": null,
      "metadata": {
        "id": "t7hu1-0msRum"
      },
      "outputs": [],
      "source": [
        "corpus = build_corpus(\n",
        "    texts=descriptors,\n",
        "    ids=df.index,\n",
        "    metadata=[{\"code\": c} for c in df[\"code\"]]\n",
        ")\n",
        "\n",
        "base = LocalKnowledgeBase(\n",
        "    corpus=corpus,\n",
        "    model_id=\"paraphrase-multilingual-MiniLM-L12-v2\",\n",
        "    batch_size=32\n",
        ")"
      ]
    },
    {
      "cell_type": "markdown",
      "metadata": {
        "id": "6wwonLvgs2_2"
      },
      "source": [
        "Search the knowledge base."
      ]
    },
    {
      "cell_type": "code",
      "execution_count": null,
      "metadata": {
        "colab": {
          "base_uri": "https://localhost:8080/",
          "height": 136,
          "referenced_widgets": [
            "7d3b858863024887ad46e279e44590fe",
            "3f0e2ac6627546f3a6e3b1bb8cdd53ec",
            "7b6338c2a0b0457cba04063a55996aae",
            "756b26aeaa27430288ca84fdc5a5deaf",
            "07bc6908324a41598c41ede8b419b2cd",
            "58af2ebcb80347f7bdfe8e6f63f3f6f9",
            "047e58c76da043f98162c896037e6455",
            "ebf0fc16947a4add91faefdacf2b3928",
            "e0ea28d672904a55801483cdebedb5e2",
            "a5f30bdef4c042a69813ecd909b5c536",
            "dcd073bcf9914f89b307ce1c02c341d5"
          ]
        },
        "id": "lNOzxDzPs4Of",
        "outputId": "925c8ba7-4f19-49a0-f501-e90fa0ccdf7d"
      },
      "outputs": [],
      "source": [
        "query = \"Vendita di ortaggi.\"\n",
        "\n",
        "base.search(query, top_k=3)"
      ]
    }
  ],
  "metadata": {
    "accelerator": "GPU",
    "colab": {
      "gpuType": "T4",
      "provenance": []
    },
    "kernelspec": {
      "display_name": "Python 3",
      "language": "python",
      "name": "python3"
    },
    "language_info": {
      "codemirror_mode": {
        "name": "ipython",
        "version": 3
      },
      "file_extension": ".py",
      "mimetype": "text/x-python",
      "name": "python",
      "nbconvert_exporter": "python",
      "pygments_lexer": "ipython3",
      "version": "3.12.2"
    },
    "widgets": {
      "application/vnd.jupyter.widget-state+json": {
        "047e58c76da043f98162c896037e6455": {
          "model_module": "@jupyter-widgets/controls",
          "model_module_version": "1.5.0",
          "model_name": "DescriptionStyleModel",
          "state": {
            "_model_module": "@jupyter-widgets/controls",
            "_model_module_version": "1.5.0",
            "_model_name": "DescriptionStyleModel",
            "_view_count": null,
            "_view_module": "@jupyter-widgets/base",
            "_view_module_version": "1.2.0",
            "_view_name": "StyleView",
            "description_width": ""
          }
        },
        "07bc6908324a41598c41ede8b419b2cd": {
          "model_module": "@jupyter-widgets/base",
          "model_module_version": "1.2.0",
          "model_name": "LayoutModel",
          "state": {
            "_model_module": "@jupyter-widgets/base",
            "_model_module_version": "1.2.0",
            "_model_name": "LayoutModel",
            "_view_count": null,
            "_view_module": "@jupyter-widgets/base",
            "_view_module_version": "1.2.0",
            "_view_name": "LayoutView",
            "align_content": null,
            "align_items": null,
            "align_self": null,
            "border": null,
            "bottom": null,
            "display": null,
            "flex": null,
            "flex_flow": null,
            "grid_area": null,
            "grid_auto_columns": null,
            "grid_auto_flow": null,
            "grid_auto_rows": null,
            "grid_column": null,
            "grid_gap": null,
            "grid_row": null,
            "grid_template_areas": null,
            "grid_template_columns": null,
            "grid_template_rows": null,
            "height": null,
            "justify_content": null,
            "justify_items": null,
            "left": null,
            "margin": null,
            "max_height": null,
            "max_width": null,
            "min_height": null,
            "min_width": null,
            "object_fit": null,
            "object_position": null,
            "order": null,
            "overflow": null,
            "overflow_x": null,
            "overflow_y": null,
            "padding": null,
            "right": null,
            "top": null,
            "visibility": null,
            "width": null
          }
        },
        "3f0e2ac6627546f3a6e3b1bb8cdd53ec": {
          "model_module": "@jupyter-widgets/controls",
          "model_module_version": "1.5.0",
          "model_name": "HTMLModel",
          "state": {
            "_dom_classes": [],
            "_model_module": "@jupyter-widgets/controls",
            "_model_module_version": "1.5.0",
            "_model_name": "HTMLModel",
            "_view_count": null,
            "_view_module": "@jupyter-widgets/controls",
            "_view_module_version": "1.5.0",
            "_view_name": "HTMLView",
            "description": "",
            "description_tooltip": null,
            "layout": "IPY_MODEL_58af2ebcb80347f7bdfe8e6f63f3f6f9",
            "placeholder": "​",
            "style": "IPY_MODEL_047e58c76da043f98162c896037e6455",
            "value": "Batches: 100%"
          }
        },
        "58af2ebcb80347f7bdfe8e6f63f3f6f9": {
          "model_module": "@jupyter-widgets/base",
          "model_module_version": "1.2.0",
          "model_name": "LayoutModel",
          "state": {
            "_model_module": "@jupyter-widgets/base",
            "_model_module_version": "1.2.0",
            "_model_name": "LayoutModel",
            "_view_count": null,
            "_view_module": "@jupyter-widgets/base",
            "_view_module_version": "1.2.0",
            "_view_name": "LayoutView",
            "align_content": null,
            "align_items": null,
            "align_self": null,
            "border": null,
            "bottom": null,
            "display": null,
            "flex": null,
            "flex_flow": null,
            "grid_area": null,
            "grid_auto_columns": null,
            "grid_auto_flow": null,
            "grid_auto_rows": null,
            "grid_column": null,
            "grid_gap": null,
            "grid_row": null,
            "grid_template_areas": null,
            "grid_template_columns": null,
            "grid_template_rows": null,
            "height": null,
            "justify_content": null,
            "justify_items": null,
            "left": null,
            "margin": null,
            "max_height": null,
            "max_width": null,
            "min_height": null,
            "min_width": null,
            "object_fit": null,
            "object_position": null,
            "order": null,
            "overflow": null,
            "overflow_x": null,
            "overflow_y": null,
            "padding": null,
            "right": null,
            "top": null,
            "visibility": null,
            "width": null
          }
        },
        "756b26aeaa27430288ca84fdc5a5deaf": {
          "model_module": "@jupyter-widgets/controls",
          "model_module_version": "1.5.0",
          "model_name": "HTMLModel",
          "state": {
            "_dom_classes": [],
            "_model_module": "@jupyter-widgets/controls",
            "_model_module_version": "1.5.0",
            "_model_name": "HTMLModel",
            "_view_count": null,
            "_view_module": "@jupyter-widgets/controls",
            "_view_module_version": "1.5.0",
            "_view_name": "HTMLView",
            "description": "",
            "description_tooltip": null,
            "layout": "IPY_MODEL_a5f30bdef4c042a69813ecd909b5c536",
            "placeholder": "​",
            "style": "IPY_MODEL_dcd073bcf9914f89b307ce1c02c341d5",
            "value": " 1/1 [00:00&lt;00:00, 32.95it/s]"
          }
        },
        "7b6338c2a0b0457cba04063a55996aae": {
          "model_module": "@jupyter-widgets/controls",
          "model_module_version": "1.5.0",
          "model_name": "FloatProgressModel",
          "state": {
            "_dom_classes": [],
            "_model_module": "@jupyter-widgets/controls",
            "_model_module_version": "1.5.0",
            "_model_name": "FloatProgressModel",
            "_view_count": null,
            "_view_module": "@jupyter-widgets/controls",
            "_view_module_version": "1.5.0",
            "_view_name": "ProgressView",
            "bar_style": "success",
            "description": "",
            "description_tooltip": null,
            "layout": "IPY_MODEL_ebf0fc16947a4add91faefdacf2b3928",
            "max": 1,
            "min": 0,
            "orientation": "horizontal",
            "style": "IPY_MODEL_e0ea28d672904a55801483cdebedb5e2",
            "value": 1
          }
        },
        "7d3b858863024887ad46e279e44590fe": {
          "model_module": "@jupyter-widgets/controls",
          "model_module_version": "1.5.0",
          "model_name": "HBoxModel",
          "state": {
            "_dom_classes": [],
            "_model_module": "@jupyter-widgets/controls",
            "_model_module_version": "1.5.0",
            "_model_name": "HBoxModel",
            "_view_count": null,
            "_view_module": "@jupyter-widgets/controls",
            "_view_module_version": "1.5.0",
            "_view_name": "HBoxView",
            "box_style": "",
            "children": [
              "IPY_MODEL_3f0e2ac6627546f3a6e3b1bb8cdd53ec",
              "IPY_MODEL_7b6338c2a0b0457cba04063a55996aae",
              "IPY_MODEL_756b26aeaa27430288ca84fdc5a5deaf"
            ],
            "layout": "IPY_MODEL_07bc6908324a41598c41ede8b419b2cd"
          }
        },
        "a5f30bdef4c042a69813ecd909b5c536": {
          "model_module": "@jupyter-widgets/base",
          "model_module_version": "1.2.0",
          "model_name": "LayoutModel",
          "state": {
            "_model_module": "@jupyter-widgets/base",
            "_model_module_version": "1.2.0",
            "_model_name": "LayoutModel",
            "_view_count": null,
            "_view_module": "@jupyter-widgets/base",
            "_view_module_version": "1.2.0",
            "_view_name": "LayoutView",
            "align_content": null,
            "align_items": null,
            "align_self": null,
            "border": null,
            "bottom": null,
            "display": null,
            "flex": null,
            "flex_flow": null,
            "grid_area": null,
            "grid_auto_columns": null,
            "grid_auto_flow": null,
            "grid_auto_rows": null,
            "grid_column": null,
            "grid_gap": null,
            "grid_row": null,
            "grid_template_areas": null,
            "grid_template_columns": null,
            "grid_template_rows": null,
            "height": null,
            "justify_content": null,
            "justify_items": null,
            "left": null,
            "margin": null,
            "max_height": null,
            "max_width": null,
            "min_height": null,
            "min_width": null,
            "object_fit": null,
            "object_position": null,
            "order": null,
            "overflow": null,
            "overflow_x": null,
            "overflow_y": null,
            "padding": null,
            "right": null,
            "top": null,
            "visibility": null,
            "width": null
          }
        },
        "dcd073bcf9914f89b307ce1c02c341d5": {
          "model_module": "@jupyter-widgets/controls",
          "model_module_version": "1.5.0",
          "model_name": "DescriptionStyleModel",
          "state": {
            "_model_module": "@jupyter-widgets/controls",
            "_model_module_version": "1.5.0",
            "_model_name": "DescriptionStyleModel",
            "_view_count": null,
            "_view_module": "@jupyter-widgets/base",
            "_view_module_version": "1.2.0",
            "_view_name": "StyleView",
            "description_width": ""
          }
        },
        "e0ea28d672904a55801483cdebedb5e2": {
          "model_module": "@jupyter-widgets/controls",
          "model_module_version": "1.5.0",
          "model_name": "ProgressStyleModel",
          "state": {
            "_model_module": "@jupyter-widgets/controls",
            "_model_module_version": "1.5.0",
            "_model_name": "ProgressStyleModel",
            "_view_count": null,
            "_view_module": "@jupyter-widgets/base",
            "_view_module_version": "1.2.0",
            "_view_name": "StyleView",
            "bar_color": null,
            "description_width": ""
          }
        },
        "ebf0fc16947a4add91faefdacf2b3928": {
          "model_module": "@jupyter-widgets/base",
          "model_module_version": "1.2.0",
          "model_name": "LayoutModel",
          "state": {
            "_model_module": "@jupyter-widgets/base",
            "_model_module_version": "1.2.0",
            "_model_name": "LayoutModel",
            "_view_count": null,
            "_view_module": "@jupyter-widgets/base",
            "_view_module_version": "1.2.0",
            "_view_name": "LayoutView",
            "align_content": null,
            "align_items": null,
            "align_self": null,
            "border": null,
            "bottom": null,
            "display": null,
            "flex": null,
            "flex_flow": null,
            "grid_area": null,
            "grid_auto_columns": null,
            "grid_auto_flow": null,
            "grid_auto_rows": null,
            "grid_column": null,
            "grid_gap": null,
            "grid_row": null,
            "grid_template_areas": null,
            "grid_template_columns": null,
            "grid_template_rows": null,
            "height": null,
            "justify_content": null,
            "justify_items": null,
            "left": null,
            "margin": null,
            "max_height": null,
            "max_width": null,
            "min_height": null,
            "min_width": null,
            "object_fit": null,
            "object_position": null,
            "order": null,
            "overflow": null,
            "overflow_x": null,
            "overflow_y": null,
            "padding": null,
            "right": null,
            "top": null,
            "visibility": null,
            "width": null
          }
        }
      }
    }
  },
  "nbformat": 4,
  "nbformat_minor": 0
}
