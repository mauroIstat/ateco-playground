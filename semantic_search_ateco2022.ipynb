{
 "cells": [
  {
   "cell_type": "code",
   "execution_count": null,
   "id": "d4930ab7",
   "metadata": {},
   "outputs": [],
   "source": [
    "%pip install git+https://github.com/istat-methodology/semantic-search.git"
   ]
  },
  {
   "cell_type": "markdown",
   "id": "666c5da5",
   "metadata": {},
   "source": [
    "# Build a vector database with ATECO 2022 Datapoints"
   ]
  },
  {
   "cell_type": "code",
   "execution_count": null,
   "id": "ce0b8237",
   "metadata": {},
   "outputs": [],
   "source": [
    "import re\n",
    "import pandas as pd\n",
    "from semantic_search.local import LocalKnowledgeBase\n",
    "from semantic_search.data import build_corpus"
   ]
  },
  {
   "cell_type": "markdown",
   "id": "84fbe67f",
   "metadata": {},
   "source": [
    "## Utility functions"
   ]
  },
  {
   "cell_type": "code",
   "execution_count": null,
   "id": "358af688",
   "metadata": {},
   "outputs": [],
   "source": [
    "def prepare_ateco_level_with_descriptor(\n",
    "    df: pd.DataFrame,\n",
    "    desc_template: str,\n",
    "    exclusion_template: str\n",
    ") -> pd.DataFrame:\n",
    "    \"\"\"\n",
    "    Cleans, normalizes and enriches an ATECO-level DataFrame by:\n",
    "    - Renaming 'section' to 'code'\n",
    "    - Lowercasing the title\n",
    "    - Filling missing values\n",
    "    - Normalizing whitespace\n",
    "    - Generating a text descriptor using provided templates\n",
    "    \"\"\"\n",
    "\n",
    "    # Select and rename relevant columns\n",
    "    df = df[['main', 'section', 'title', 'description', 'exclusion_list', 'exclusion_description']].copy()\n",
    "    df = df.rename(columns={'section': 'code'})\n",
    "\n",
    "    # Normalize fields\n",
    "    df['code'] = df['code'].astype(str)\n",
    "    df['title'] = df['title'].astype(str).str.lower()\n",
    "\n",
    "    for col in ['description', 'exclusion_list', 'exclusion_description']:\n",
    "        df[col] = df[col].fillna('')\n",
    "        df[col] = df[col].apply(lambda x: re.sub(r'\\s+', ' ', x.strip()))\n",
    "\n",
    "    if 'exclusion_title' not in df.columns:\n",
    "        df['exclusion_title'] = ''\n",
    "\n",
    "    # Apply templates to build descriptor\n",
    "    def render_descriptor(row):\n",
    "        base = desc_template.format(\n",
    "            title=row['title'],\n",
    "            description=row['description']\n",
    "        )\n",
    "        if any([row['exclusion_title'], row['exclusion_list'], row['exclusion_description']]):\n",
    "            exclusion_block = exclusion_template.format(\n",
    "                exclusion_title=row['exclusion_title'],\n",
    "                exclusion_list=row['exclusion_list'],\n",
    "                exclusion_description=row['exclusion_description']\n",
    "            )\n",
    "            return base + exclusion_block\n",
    "        return base\n",
    "\n",
    "    df['descriptor'] = df.apply(render_descriptor, axis=1)\n",
    "    return df\n"
   ]
  },
  {
   "cell_type": "markdown",
   "id": "f6d02c77",
   "metadata": {},
   "source": [
    "## Configs\n",
    "Set configuration parameters, such as the ATECO 2022 path and the embedding model."
   ]
  },
  {
   "cell_type": "code",
   "execution_count": null,
   "id": "f59e0196",
   "metadata": {},
   "outputs": [],
   "source": [
    "# ATECO 2022 classification\n",
    "ATECO_PATH : str = \"classification/ateco_2022/ateco_2022.csv\"\n",
    "\n",
    "# Order of columns in the DataFrame\n",
    "COLUMN_ORDER = [\n",
    "    'main', 'code', 'level', 'title', 'description',\n",
    "    'descriptor', 'exclusion_list', 'exclusion_description', 'exclusion_title'\n",
    "]\n",
    "# Sentence Embedding model\n",
    "MODEL_ID   : str = \"all-MiniLM-L6-v2\" #all-MiniLM-L6-v2, BAAI/bge-m3 "
   ]
  },
  {
   "cell_type": "markdown",
   "id": "f7708604",
   "metadata": {},
   "source": [
    "## Define a descriptor TEMPLATE\n",
    "This template is needed to create the texts (**descriptors**) that will be loaded in the vector database"
   ]
  },
  {
   "cell_type": "code",
   "execution_count": null,
   "id": "01d2453e",
   "metadata": {},
   "outputs": [],
   "source": [
    "desc_template = \"\"\"# {title}\n",
    "\n",
    "{description}\n",
    "\"\"\"\n",
    "\n",
    "exclusion_template = \"\"\"\n",
    "Questa sezione ATECO non comprende le seguenti attività:\n",
    "\n",
    "{exclusion_list}, {exclusion_description}\n",
    "\"\"\"\n"
   ]
  },
  {
   "cell_type": "markdown",
   "id": "0977acac",
   "metadata": {},
   "source": [
    "## Data Load & Preprocessing\n",
    "We import the ATECO 2022 classification and perform pre-processing tasks needed to build the vector database"
   ]
  },
  {
   "cell_type": "markdown",
   "id": "b9a134c2",
   "metadata": {},
   "source": [
    "---"
   ]
  },
  {
   "cell_type": "code",
   "execution_count": null,
   "id": "830c244b",
   "metadata": {},
   "outputs": [],
   "source": [
    "# Read ATECO 2022\n",
    "raw_ateco_df = pd.read_csv(ATECO_PATH)"
   ]
  },
  {
   "cell_type": "markdown",
   "id": "32d92105",
   "metadata": {},
   "source": [
    "Build a dataset at each level"
   ]
  },
  {
   "cell_type": "code",
   "execution_count": null,
   "id": "4b325dfc",
   "metadata": {},
   "outputs": [],
   "source": [
    "# Level 1\n",
    "ateco_level_1 = raw_ateco_df[raw_ateco_df['section'].isin(raw_ateco_df['main'].unique())]\n",
    "ateco_level_1 = prepare_ateco_level_with_descriptor(ateco_level_1, desc_template, exclusion_template)\n",
    "ateco_level_1[\"level\"] = \"sezione\"\n",
    "ateco_level_1 = ateco_level_1[COLUMN_ORDER]\n",
    "\n",
    "# Level 2\n",
    "ateco_level_2 = raw_ateco_df[raw_ateco_df['section'].str.fullmatch(r'\\d{2}')]\n",
    "ateco_level_2 = prepare_ateco_level_with_descriptor(ateco_level_2, desc_template, exclusion_template)\n",
    "ateco_level_2[\"level\"] = \"divisione\"\n",
    "ateco_level_2 = ateco_level_2[COLUMN_ORDER]\n",
    "\n",
    "# Level 3\n",
    "ateco_level_3 = raw_ateco_df[raw_ateco_df['section'].str.fullmatch(r'\\d{2}\\.\\d')]\n",
    "ateco_level_3 = prepare_ateco_level_with_descriptor(ateco_level_3, desc_template, exclusion_template)\n",
    "ateco_level_3[\"level\"] = \"gruppo\"\n",
    "ateco_level_3 = ateco_level_3[COLUMN_ORDER]\n",
    "\n",
    "# Level 4\n",
    "ateco_level_4 = raw_ateco_df[raw_ateco_df['section'].str.fullmatch(r'\\d{2}\\.\\d{2}')]\n",
    "ateco_level_4 = prepare_ateco_level_with_descriptor(ateco_level_4, desc_template, exclusion_template)\n",
    "ateco_level_4[\"level\"] = \"classe\"\n",
    "ateco_level_4 = ateco_level_4[COLUMN_ORDER]"
   ]
  },
  {
   "cell_type": "markdown",
   "id": "7fb45245",
   "metadata": {},
   "source": [
    "Merge all the levels in a dataframe"
   ]
  },
  {
   "cell_type": "code",
   "execution_count": null,
   "id": "4810507c",
   "metadata": {},
   "outputs": [],
   "source": [
    "ateco_2022 = pd.concat(\n",
    "    [ateco_level_1, ateco_level_2, ateco_level_3, ateco_level_4],\n",
    "    axis=0,\n",
    "    ignore_index=True\n",
    ")"
   ]
  },
  {
   "cell_type": "markdown",
   "id": "8d412f99",
   "metadata": {},
   "source": [
    "Save to files in the **ateco_2022** folder"
   ]
  },
  {
   "cell_type": "code",
   "execution_count": null,
   "id": "522bde65",
   "metadata": {},
   "outputs": [],
   "source": [
    "ateco_level_1.to_csv(\"classification/ateco_2022/ateco_2022_level_1.csv\", index=False)\n",
    "ateco_level_2.to_csv(\"classification/ateco_2022/ateco_2022_level_2.csv\", index=False)\n",
    "ateco_level_3.to_csv(\"classification/ateco_2022/ateco_2022_level_3.csv\", index=False)\n",
    "ateco_level_4.to_csv(\"classification/ateco_2022/ateco_2022_level_4.csv\", index=False)\n",
    "\n",
    "# Save the complete ATECO 2022 DataFrame with descriptors\n",
    "ateco_2022.to_csv(\"classification/ateco_2022/ateco_2022_descriptor.csv\", index=False)"
   ]
  },
  {
   "cell_type": "markdown",
   "id": "b158cba6",
   "metadata": {},
   "source": [
    "---"
   ]
  },
  {
   "cell_type": "code",
   "execution_count": null,
   "id": "23b13555",
   "metadata": {},
   "outputs": [],
   "source": [
    "print(ateco_2022['level'].unique())"
   ]
  },
  {
   "cell_type": "code",
   "execution_count": null,
   "id": "0de2e3fb",
   "metadata": {},
   "outputs": [],
   "source": [
    "ateco_2022[ateco_2022['level'] == 'divisione']"
   ]
  },
  {
   "cell_type": "markdown",
   "id": "ae368e51",
   "metadata": {},
   "source": [
    "## Semantic Search\n",
    "Now, we can build a semantic search database containing ATECO codes. To do this, we will use the `LocalKnowledgeBase` class from the `semantic_search` library."
   ]
  },
  {
   "cell_type": "markdown",
   "id": "cf4c4682",
   "metadata": {},
   "source": [
    "### Knowledge Base: ATECO - Section (level 1)"
   ]
  },
  {
   "cell_type": "code",
   "execution_count": null,
   "id": "d2c08039",
   "metadata": {},
   "outputs": [],
   "source": [
    "corpus_level_1 = build_corpus(\n",
    "    texts=ateco_level_1['descriptor'],\n",
    "    ids=ateco_level_1['code'],\n",
    "    metadata = [{\"code\": c, \"title\": t, \"level\": s} for c, t, s  in zip(ateco_level_1[\"code\"], ateco_level_1[\"title\"], ateco_level_1[\"level\"])]\n",
    ")\n",
    "\n",
    "base_level_1 = LocalKnowledgeBase(\n",
    "    corpus=corpus_level_1,\n",
    "    model_id=MODEL_ID\n",
    ")"
   ]
  },
  {
   "cell_type": "markdown",
   "id": "9910567e",
   "metadata": {},
   "source": [
    "### Knowledge Base: ATECO - Division (level 2)"
   ]
  },
  {
   "cell_type": "code",
   "execution_count": null,
   "id": "941ed5f4",
   "metadata": {},
   "outputs": [],
   "source": [
    "corpus_level_2 = build_corpus(\n",
    "    texts=ateco_level_2['descriptor'],\n",
    "    ids=ateco_level_2['code'],\n",
    "    metadata = [{\"code\": c, \"title\": t, \"level\": s} for c, t, s  in zip(ateco_level_2[\"code\"], ateco_level_2[\"title\"], ateco_level_2[\"level\"])]\n",
    ")\n",
    "\n",
    "base_level_2 = LocalKnowledgeBase(\n",
    "    corpus=corpus_level_2,\n",
    "    model_id=MODEL_ID\n",
    ")"
   ]
  },
  {
   "cell_type": "markdown",
   "id": "36572d31",
   "metadata": {},
   "source": [
    "#### Let's query the knowledge base"
   ]
  },
  {
   "cell_type": "code",
   "execution_count": null,
   "id": "01654992",
   "metadata": {},
   "outputs": [],
   "source": [
    "QUERY = [\"Ho una pescheria\", \n",
    "         \"Ciao, io ho un'attività immobiliare che si occupa di affitti, quale codice ATECO devo usare?\"]\n",
    "\n",
    "results = base_level_2.search(QUERY, top_k=5)\n",
    "\n",
    "for res in results:\n",
    "    for res_i in res:\n",
    "        print(f\"{res_i.score:.2f} | {res_i.metadata[\"title\"]}\")\n",
    "    print(\"---\")\n"
   ]
  }
 ],
 "metadata": {
  "kernelspec": {
   "display_name": "Python 3",
   "language": "python",
   "name": "python3"
  },
  "language_info": {
   "codemirror_mode": {
    "name": "ipython",
    "version": 3
   },
   "file_extension": ".py",
   "mimetype": "text/x-python",
   "name": "python",
   "nbconvert_exporter": "python",
   "pygments_lexer": "ipython3",
   "version": "3.12.2"
  }
 },
 "nbformat": 4,
 "nbformat_minor": 5
}
