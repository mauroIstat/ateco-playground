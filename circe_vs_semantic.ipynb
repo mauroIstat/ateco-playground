{
 "cells": [
  {
   "cell_type": "markdown",
   "id": "7f1bdb1c",
   "metadata": {},
   "source": [
    "# CIRCE vs Semantic Search - ATECO 2022"
   ]
  },
  {
   "cell_type": "code",
   "execution_count": 1,
   "metadata": {},
   "outputs": [
    {
     "name": "stderr",
     "output_type": "stream",
     "text": [
      "/anaconda/lib/python3.12/site-packages/tqdm/auto.py:21: TqdmWarning: IProgress not found. Please update jupyter and ipywidgets. See https://ipywidgets.readthedocs.io/en/stable/user_install.html\n",
      "  from .autonotebook import tqdm as notebook_tqdm\n"
     ]
    }
   ],
   "source": [
    "import pandas as pd\n",
    "import numpy as np\n",
    "import ast\n",
    "import requests\n",
    "import time\n",
    "import json\n",
    "from typing import List\n",
    "from semantic_search.data import build_corpus\n",
    "from semantic_search.local import LocalKnowledgeBase"
   ]
  },
  {
   "cell_type": "markdown",
   "id": "fb20534f",
   "metadata": {},
   "source": [
    "## Configs"
   ]
  },
  {
   "cell_type": "code",
   "execution_count": 28,
   "id": "592a134c",
   "metadata": {},
   "outputs": [],
   "source": [
    "EXTRACT_CIRCE : bool = False\n",
    "CIRCE_URL     : str  = \"https://www.istat.it/wp-content/themes/EGPbs5-child/ateco/atecor.php\"\n",
    "CIRCE_FILENAME: str  = \"data/circe_results.json\"\n",
    "MERGE_DESCS   : bool = False\n",
    "\n",
    "MODEL_ID : str = \"BAAI/bge-m3\"  # paraphrase-multilingual-MiniLM-L12-v2, LaBSE, Qwen/Qwen3-Embedding-0.6B"
   ]
  },
  {
   "cell_type": "markdown",
   "id": "abaa9833",
   "metadata": {},
   "source": [
    "---"
   ]
  },
  {
   "cell_type": "markdown",
   "id": "1e0eaa11",
   "metadata": {},
   "source": [
    "## Data"
   ]
  },
  {
   "cell_type": "code",
   "execution_count": 24,
   "id": "eac5511f",
   "metadata": {},
   "outputs": [],
   "source": [
    "ateco_df = pd.read_csv(\"data/ateco_2022_raw.csv\")\n",
    "ateco_df = ateco_df[ateco_df[\"section\"].str.len() == 8]\n",
    "\n",
    "codes = []\n",
    "texts = []\n",
    "for i, row in ateco_df.iterrows():\n",
    "    if row[\"title\"]:\n",
    "        codes.append(row[\"section\"])\n",
    "        texts.append(row[\"title\"].lower())\n",
    "\n",
    "    if type(row[\"description\"]) == str:\n",
    "        desc = row[\"description\"]\n",
    "        desc = desc.split(\". Sono escluse\")[0]\n",
    "        desc_list = desc.split(\" - \")\n",
    "        for d in desc_list:\n",
    "            codes.append(row[\"section\"])\n",
    "            texts.append(d.lower().strip(\"- \"))\n",
    "\n",
    "if MERGE_DESCS:\n",
    "    ateco_df_merge = pd.DataFrame({\n",
    "        \"code\": codes,\n",
    "        \"text\": texts\n",
    "    })\n",
    "    ateco_df_merge = ateco_df_merge.groupby(\"code\").aggregate({\n",
    "        \"text\": lambda x: \".\\n\".join(x)\n",
    "    })\n",
    "    codes = ateco_df_merge.index.tolist()\n",
    "    texts = ateco_df_merge[\"text\"].tolist()\n",
    "\n",
    "sample_queries_df = pd.read_csv(\"data/ateco_sample_queries.csv\", sep=\";\")\n",
    "sampled_df = sample_queries_df.sample(1000, random_state=42)\n",
    "sampled_df.drop(columns=[\"ID\"], inplace=True)\n",
    "sampled_df.rename(columns={\"Stringa\": \"query\"}, inplace=True)\n",
    "\n",
    "queries = sampled_df[\"query\"].tolist()"
   ]
  },
  {
   "cell_type": "markdown",
   "metadata": {},
   "source": [
    "Import CIRCE labeled data."
   ]
  },
  {
   "cell_type": "code",
   "execution_count": 25,
   "id": "dd94c441",
   "metadata": {},
   "outputs": [],
   "source": [
    "if EXTRACT_CIRCE:\n",
    "    headers = {\"Content-Type\": \"application/x-www-form-urlencoded\"}\n",
    "\n",
    "    with open(CIRCE_FILENAME, \"w\") as f:\n",
    "        json.dump({}, f)\n",
    "\n",
    "    results_dict = {}\n",
    "    for idx, query in enumerate(queries):\n",
    "        results_dict[idx] = {}\n",
    "        results_dict[idx][\"query\"] = query\n",
    "        data = {\"search\": query}\n",
    "        try:\n",
    "            response = requests.post(CIRCE_URL, data=data, headers=headers)\n",
    "            response_dict = ast.literal_eval(response.text.replace('\"\"', '\"'))\n",
    "\n",
    "            results_dict[idx][\"result\"] = {}\n",
    "\n",
    "            for j, res in enumerate(response_dict[\"0\"]):\n",
    "                results_dict[idx][\"result\"][j] = {}\n",
    "                code = res[\"ateco_code\"]\n",
    "                desc = res[\"ateco_description\"]\n",
    "                results_dict[idx][\"result\"][j][\"code\"] = code\n",
    "                results_dict[idx][\"result\"][j][\"desc\"] = desc\n",
    "\n",
    "        except:\n",
    "            results_dict[idx][\"result\"] = \"ERROR\"\n",
    "\n",
    "        with open(CIRCE_FILENAME, \"r\") as f:\n",
    "            json_data = json.load(f)\n",
    "        json_data.update(results_dict)\n",
    "        with open(CIRCE_FILENAME, \"w\") as f:\n",
    "            json.dump(json_data, f)\n",
    "\n",
    "        time.sleep(0.005)\n",
    "\n",
    "else:\n",
    "    with open(CIRCE_FILENAME, \"r\") as f:\n",
    "        results_dict = json.load(f)"
   ]
  },
  {
   "cell_type": "markdown",
   "id": "5f06d2f7",
   "metadata": {},
   "source": [
    "---"
   ]
  },
  {
   "cell_type": "markdown",
   "id": "97c4ee23",
   "metadata": {},
   "source": [
    "## Semantic Search\n",
    "First, we create the knowledge base for the ATECO 2022 classification."
   ]
  },
  {
   "cell_type": "code",
   "execution_count": 26,
   "id": "90a44cb5",
   "metadata": {},
   "outputs": [
    {
     "name": "stderr",
     "output_type": "stream",
     "text": [
      "Batches: 100%|███████████████████████████████████████████████████████████████████████████████████████████████████████████████████████████████████████████████████████████████████████████████████████████████████████████████████████████████████████████████████████████████████████████████████████████████████████████████████████████████████████████████████████████████████████████████████████████████████████████████████████████████████████████████████████████████████████████████████████████████████████████████████████████████████████████████████████████████████████████████████████████████████████████████████████████████████████████████████████████████████████████████████████████████████████████████████████████████████████████████████████████████████████████████████████████████████████████████████████████████████████████████████████████████████████████████████████████████████████████████████████████████████████████████████████████████████████████████████████| 242/242 [00:18<00:00, 12.97it/s]\n"
     ]
    }
   ],
   "source": [
    "corpus = build_corpus(\n",
    "    texts=texts,\n",
    "    ids=list(range(len(texts))),\n",
    "    metadata=[{\"code\": c} for c in codes]\n",
    ")\n",
    "base = LocalKnowledgeBase(\n",
    "    corpus=corpus,\n",
    "    model_id=\"BAAI/bge-m3\",\n",
    "    batch_size=16\n",
    ")"
   ]
  },
  {
   "cell_type": "markdown",
   "id": "e4734ddc",
   "metadata": {},
   "source": [
    "Then, we search the knowledge base and extract the matching between CIRCE and semantic search."
   ]
  },
  {
   "cell_type": "code",
   "execution_count": 33,
   "id": "92e21abf",
   "metadata": {},
   "outputs": [
    {
     "name": "stderr",
     "output_type": "stream",
     "text": [
      "Batches: 100%|█████████████████████████████████████████████████████████████████████████████████████████████████████████████████████████████████████████████████████████████████████████████████████████████████████████████████████████████████████████████████████████████████████████████████████████████████████████████████████████████████████████████████████████████████████████████████████████████████████████████████████████████████████████████████████████████████████████████████████████████████████████████████████████████████████████████████████████████████████████████████████████████████████████████████████████████████████████████████████████████████████████████████████████████████████████████████████████████████████████████████████████████████████████████████████████████████████████████████████████████████████████████████████████████████████████████████████████████████████████████████████████████████████████████████████████████████████████████████████████| 63/63 [00:02<00:00, 23.06it/s]\n"
     ]
    },
    {
     "name": "stdout",
     "output_type": "stream",
     "text": [
      "Overlap (Top 10)): 66.94%\n"
     ]
    }
   ],
   "source": [
    "match_top_k = 10\n",
    "\n",
    "results = base.search(queries, top_k=30)\n",
    "\n",
    "def parse_retrieved(results):\n",
    "    codes = [r.metadata[\"code\"] for r in results]\n",
    "    texts = [r.text for r in results]\n",
    "    scores = [r.score for r in results]\n",
    "\n",
    "    df = pd.DataFrame({\n",
    "        \"code\": codes,\n",
    "        \"matched_text\": texts,\n",
    "        \"score\": scores\n",
    "    })\n",
    "\n",
    "    grouped_df = df.groupby(\"code\").aggregate({\n",
    "        \"score\": \"max\",\n",
    "    }).reset_index()\n",
    "\n",
    "    return grouped_df.sort_values(\"score\", ascending=False)\n",
    "\n",
    "queries_filtered = []\n",
    "top_results = []\n",
    "circe_guess = []\n",
    "sem_search_guess = []\n",
    "\n",
    "for idx, res in enumerate(results):\n",
    "    circe = results_dict[str(idx)][\"result\"]\n",
    "    if circe == \"ERROR\":\n",
    "        continue\n",
    "    ateco_circe = set(np.unique([circe[key][\"code\"] for key in circe.keys()]).tolist())\n",
    "\n",
    "    sem_search_res = parse_retrieved(res.results).iloc[:match_top_k][\"code\"].tolist()\n",
    "    sem_search_res = set([r[:-1] for r in sem_search_res])\n",
    "\n",
    "    if ateco_circe.intersection(sem_search_res):\n",
    "        top_results.append(1)\n",
    "    else:\n",
    "        top_results.append(0)\n",
    "\n",
    "    circe_guess.append(list(ateco_circe))\n",
    "    sem_search_guess.append(list(sem_search_res))\n",
    "    queries_filtered.append(queries[idx])\n",
    "\n",
    "print(f\"Overlap (Top {match_top_k})): {round(np.mean(top_results)*100, 2)}%\")"
   ]
  },
  {
   "cell_type": "code",
   "execution_count": 44,
   "id": "681d5449",
   "metadata": {},
   "outputs": [],
   "source": [
    "export_df = pd.DataFrame({\n",
    "    \"QUERY\": queries_filtered,\n",
    "    \"CIRCE\": circe_guess,\n",
    "    \"SEMANTIC\": sem_search_guess,\n",
    "    \"OVERLAP\": top_results\n",
    "})\n",
    "\n",
    "export_df.to_csv(\"data/circe_vs_semantic.csv\", index=False)"
   ]
  },
  {
   "cell_type": "code",
   "execution_count": null,
   "id": "3a0a974a",
   "metadata": {},
   "outputs": [
    {
     "data": {
      "text/html": [
       "<div>\n",
       "<style scoped>\n",
       "    .dataframe tbody tr th:only-of-type {\n",
       "        vertical-align: middle;\n",
       "    }\n",
       "\n",
       "    .dataframe tbody tr th {\n",
       "        vertical-align: top;\n",
       "    }\n",
       "\n",
       "    .dataframe thead th {\n",
       "        text-align: right;\n",
       "    }\n",
       "</style>\n",
       "<table border=\"1\" class=\"dataframe\">\n",
       "  <thead>\n",
       "    <tr style=\"text-align: right;\">\n",
       "      <th></th>\n",
       "      <th>QUERY</th>\n",
       "      <th>CIRCE</th>\n",
       "      <th>SEMANTIC</th>\n",
       "      <th>OVERLAP</th>\n",
       "    </tr>\n",
       "  </thead>\n",
       "  <tbody>\n",
       "    <tr>\n",
       "      <th>0</th>\n",
       "      <td>creazione oggetti casa</td>\n",
       "      <td>[47.59.2, 46.44.3]</td>\n",
       "      <td>[43.99.0, 43.91.0, 23.13.0, 32.99.3, 22.29.0, ...</td>\n",
       "      <td>0</td>\n",
       "    </tr>\n",
       "    <tr>\n",
       "      <th>1</th>\n",
       "      <td>il commercio, anche per conto terzi ed anche i...</td>\n",
       "      <td>[45.11.0]</td>\n",
       "      <td>[46.14.0, 79.11.0, 45.31.0, 45.11.0, 66.12.0, ...</td>\n",
       "      <td>1</td>\n",
       "    </tr>\n",
       "    <tr>\n",
       "      <th>2</th>\n",
       "      <td>l     attivita svolta e  commercio al dettagli...</td>\n",
       "      <td>[47.42.0]</td>\n",
       "      <td>[46.52.0, 47.63.0, 47.41.0, 47.43.0, 47.54.0, ...</td>\n",
       "      <td>1</td>\n",
       "    </tr>\n",
       "    <tr>\n",
       "      <th>3</th>\n",
       "      <td>fabbricazione di birra</td>\n",
       "      <td>[11.05.0]</td>\n",
       "      <td>[10.42.0, 11.05.0, 56.30.0, 23.14.0, 20.14.0, ...</td>\n",
       "      <td>1</td>\n",
       "    </tr>\n",
       "    <tr>\n",
       "      <th>4</th>\n",
       "      <td>salone di  estetica</td>\n",
       "      <td>[96.02.0]</td>\n",
       "      <td>[20.42.0, 86.23.0, 45.20.3, 86.22.0, 59.20.3, ...</td>\n",
       "      <td>1</td>\n",
       "    </tr>\n",
       "    <tr>\n",
       "      <th>...</th>\n",
       "      <td>...</td>\n",
       "      <td>...</td>\n",
       "      <td>...</td>\n",
       "      <td>...</td>\n",
       "    </tr>\n",
       "    <tr>\n",
       "      <th>987</th>\n",
       "      <td>impresa edilizia costruzione demolizione</td>\n",
       "      <td>[43.11.0, 42.11.0, 41.20.0]</td>\n",
       "      <td>[43.11.0, 38.31.1, 39.00.0, 42.91.0, 43.91.0, ...</td>\n",
       "      <td>1</td>\n",
       "    </tr>\n",
       "    <tr>\n",
       "      <th>988</th>\n",
       "      <td>consulente attivita intellettuale</td>\n",
       "      <td>[n.c.   ]</td>\n",
       "      <td>[86.90.3, 66.19.2, 69.10.1, 94.12.2, 62.02.0, ...</td>\n",
       "      <td>0</td>\n",
       "    </tr>\n",
       "    <tr>\n",
       "      <th>989</th>\n",
       "      <td>servizi consulenza aziendale marketing</td>\n",
       "      <td>[70.22.0]</td>\n",
       "      <td>[66.19.2, 73.11.0, 69.10.1, 70.22.0, 62.02.0, ...</td>\n",
       "      <td>1</td>\n",
       "    </tr>\n",
       "    <tr>\n",
       "      <th>990</th>\n",
       "      <td>progettazione e sviluppo in ambito tecnologico</td>\n",
       "      <td>[74.10.3, 62.01.0, n.c.   , 71.12.1]</td>\n",
       "      <td>[71.20.2, 62.01.0, 71.20.1, 62.02.0, 71.12.1, ...</td>\n",
       "      <td>1</td>\n",
       "    </tr>\n",
       "    <tr>\n",
       "      <th>991</th>\n",
       "      <td>fusione di ghisa e produzione di tubi e raccor...</td>\n",
       "      <td>[24.51.0]</td>\n",
       "      <td>[24.20.2, 24.43.0, 24.51.0, 24.42.0, 24.53.0, ...</td>\n",
       "      <td>1</td>\n",
       "    </tr>\n",
       "  </tbody>\n",
       "</table>\n",
       "<p>992 rows × 4 columns</p>\n",
       "</div>"
      ],
      "text/plain": [
       "                                                 QUERY  \\\n",
       "0                               creazione oggetti casa   \n",
       "1    il commercio, anche per conto terzi ed anche i...   \n",
       "2    l     attivita svolta e  commercio al dettagli...   \n",
       "3                               fabbricazione di birra   \n",
       "4                                  salone di  estetica   \n",
       "..                                                 ...   \n",
       "987           impresa edilizia costruzione demolizione   \n",
       "988                  consulente attivita intellettuale   \n",
       "989             servizi consulenza aziendale marketing   \n",
       "990     progettazione e sviluppo in ambito tecnologico   \n",
       "991  fusione di ghisa e produzione di tubi e raccor...   \n",
       "\n",
       "                                    CIRCE  \\\n",
       "0                      [47.59.2, 46.44.3]   \n",
       "1                               [45.11.0]   \n",
       "2                               [47.42.0]   \n",
       "3                               [11.05.0]   \n",
       "4                               [96.02.0]   \n",
       "..                                    ...   \n",
       "987           [43.11.0, 42.11.0, 41.20.0]   \n",
       "988                             [n.c.   ]   \n",
       "989                             [70.22.0]   \n",
       "990  [74.10.3, 62.01.0, n.c.   , 71.12.1]   \n",
       "991                             [24.51.0]   \n",
       "\n",
       "                                              SEMANTIC  OVERLAP  \n",
       "0    [43.99.0, 43.91.0, 23.13.0, 32.99.3, 22.29.0, ...        0  \n",
       "1    [46.14.0, 79.11.0, 45.31.0, 45.11.0, 66.12.0, ...        1  \n",
       "2    [46.52.0, 47.63.0, 47.41.0, 47.43.0, 47.54.0, ...        1  \n",
       "3    [10.42.0, 11.05.0, 56.30.0, 23.14.0, 20.14.0, ...        1  \n",
       "4    [20.42.0, 86.23.0, 45.20.3, 86.22.0, 59.20.3, ...        1  \n",
       "..                                                 ...      ...  \n",
       "987  [43.11.0, 38.31.1, 39.00.0, 42.91.0, 43.91.0, ...        1  \n",
       "988  [86.90.3, 66.19.2, 69.10.1, 94.12.2, 62.02.0, ...        0  \n",
       "989  [66.19.2, 73.11.0, 69.10.1, 70.22.0, 62.02.0, ...        1  \n",
       "990  [71.20.2, 62.01.0, 71.20.1, 62.02.0, 71.12.1, ...        1  \n",
       "991  [24.20.2, 24.43.0, 24.51.0, 24.42.0, 24.53.0, ...        1  \n",
       "\n",
       "[992 rows x 4 columns]"
      ]
     },
     "execution_count": 43,
     "metadata": {},
     "output_type": "execute_result"
    }
   ],
   "source": []
  },
  {
   "cell_type": "code",
   "execution_count": null,
   "id": "7b095606",
   "metadata": {},
   "outputs": [],
   "source": []
  }
 ],
 "metadata": {
  "kernelspec": {
   "display_name": "base",
   "language": "python",
   "name": "python3"
  },
  "language_info": {
   "codemirror_mode": {
    "name": "ipython",
    "version": 3
   },
   "file_extension": ".py",
   "mimetype": "text/x-python",
   "name": "python",
   "nbconvert_exporter": "python",
   "pygments_lexer": "ipython3",
   "version": "3.12.9"
  }
 },
 "nbformat": 4,
 "nbformat_minor": 5
}
